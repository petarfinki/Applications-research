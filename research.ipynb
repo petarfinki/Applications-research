{
  "cells": [
    {
      "cell_type": "markdown",
      "metadata": {
        "collapsed": true,
        "id": "9Wi3maAO5o_q"
      },
      "source": [
        "**The project** is an analysis, comparison and research on all kinds of postings on the \"Hacker News\" web platform. [**Hacker News**](https://news.ycombinator.com/news) (sometimes abbreviated as **HN**) is a social news website focusing on computer science and entrepreneurship. \n",
        "\n",
        "The intention is to recreate a community made by interested parties who will ask questions, show some individual work of their own and make a discussion.\n",
        "\n",
        "The main research will be limited to ask type posts and comparing the average number of comments/responses to questions within each hour of a day. \n",
        "\n",
        "The purpose is to determine if the results will provide best time of day to post questions according to the highest frequency of comments/responses.\n",
        "\n",
        "\n",
        "---\n",
        "\n",
        "\n"
      ]
    },
    {
      "cell_type": "markdown",
      "source": [
        "1.Read the csv file and create a list"
      ],
      "metadata": {
        "id": "EAWSqGno-o0E"
      }
    },
    {
      "cell_type": "code",
      "execution_count": 2,
      "metadata": {
        "colab": {
          "base_uri": "https://localhost:8080/"
        },
        "id": "TxBdgflU5o_w",
        "outputId": "29ba5b1e-5a68-4529-c9d4-75a3ccf9f220"
      },
      "outputs": [
        {
          "output_type": "stream",
          "name": "stdout",
          "text": [
            "[['id', 'title', 'url', 'num_points', 'num_comments', 'author', 'created_at'], ['12224879', 'Interactive Dynamic Video', 'http://www.interactivedynamicvideo.com/', '386', '52', 'ne0phyte', '8/4/2016 11:52'], ['10975351', 'How to Use Open Source and Shut the Fuck Up at the Same Time', 'http://hueniverse.com/2016/01/26/how-to-use-open-source-and-shut-the-fuck-up-at-the-same-time/', '39', '10', 'josep2', '1/26/2016 19:30'], ['11964716', \"Florida DJs May Face Felony for April Fools' Water Joke\", 'http://www.thewire.com/entertainment/2013/04/florida-djs-april-fools-water-joke/63798/', '2', '1', 'vezycash', '6/23/2016 22:20'], ['11919867', 'Technology ventures: From Idea to Enterprise', 'https://www.amazon.com/Technology-Ventures-Enterprise-Thomas-Byers/dp/0073523429', '3', '1', 'hswarna', '6/17/2016 0:01']]\n"
          ]
        }
      ],
      "source": [
        "from csv import reader\n",
        "\n",
        "open_file = open('/content/hacker_news.csv')\n",
        "read_file = reader(open_file)\n",
        "hn = list(read_file)\n",
        "print(hn[:5])"
      ]
    },
    {
      "cell_type": "markdown",
      "source": [
        "2.Excluding the header information in order to do a research"
      ],
      "metadata": {
        "id": "kw2q5-Rp--AD"
      }
    },
    {
      "cell_type": "code",
      "execution_count": 3,
      "metadata": {
        "colab": {
          "base_uri": "https://localhost:8080/"
        },
        "id": "K6aHFTZf5o_4",
        "outputId": "a3ca9bdb-4048-4c9e-a5fa-209f159a83b8"
      },
      "outputs": [
        {
          "output_type": "stream",
          "name": "stdout",
          "text": [
            "['id', 'title', 'url', 'num_points', 'num_comments', 'author', 'created_at']\n",
            "\n",
            "\n",
            "[['12224879', 'Interactive Dynamic Video', 'http://www.interactivedynamicvideo.com/', '386', '52', 'ne0phyte', '8/4/2016 11:52'], ['10975351', 'How to Use Open Source and Shut the Fuck Up at the Same Time', 'http://hueniverse.com/2016/01/26/how-to-use-open-source-and-shut-the-fuck-up-at-the-same-time/', '39', '10', 'josep2', '1/26/2016 19:30'], ['11964716', \"Florida DJs May Face Felony for April Fools' Water Joke\", 'http://www.thewire.com/entertainment/2013/04/florida-djs-april-fools-water-joke/63798/', '2', '1', 'vezycash', '6/23/2016 22:20'], ['11919867', 'Technology ventures: From Idea to Enterprise', 'https://www.amazon.com/Technology-Ventures-Enterprise-Thomas-Byers/dp/0073523429', '3', '1', 'hswarna', '6/17/2016 0:01'], ['10301696', 'Note by Note: The Making of Steinway L1037 (2007)', 'http://www.nytimes.com/2007/11/07/movies/07stein.html?_r=0', '8', '2', 'walterbell', '9/30/2015 4:12']]\n"
          ]
        }
      ],
      "source": [
        "headers = hn[0]\n",
        "hn = hn[1:]\n",
        "print(headers)\n",
        "print('\\n')\n",
        "print(hn[:5])"
      ]
    },
    {
      "cell_type": "markdown",
      "source": [
        "3.Extracting Ask posts,Show posts and other.You can see the number of each of the separate lists."
      ],
      "metadata": {
        "id": "dNz-t6Ct_KGr"
      }
    },
    {
      "cell_type": "code",
      "execution_count": 4,
      "metadata": {
        "colab": {
          "base_uri": "https://localhost:8080/"
        },
        "id": "je_YDYaz5o_6",
        "outputId": "3645d5da-c6c9-41cc-f7b4-792c2248473b"
      },
      "outputs": [
        {
          "output_type": "stream",
          "name": "stdout",
          "text": [
            "Number of Ask HNs Posts :  1744\n",
            "Number of HNs Posts :  1162\n",
            "Number of Other Posts :  17194\n"
          ]
        }
      ],
      "source": [
        "ask_posts = list()\n",
        "show_posts = list()\n",
        "other_posts = list()\n",
        "for row in hn:\n",
        "    title = row[1]\n",
        "    if title.lower().startswith('ask hn'):\n",
        "        ask_posts.append(row)\n",
        "    elif title.lower().startswith('show hn'):\n",
        "        show_posts.append(row)\n",
        "    else:\n",
        "        other_posts.append(row)\n",
        "print('Number of Ask HNs Posts : ', len(ask_posts))  \n",
        "print('Number of HNs Posts : ', len(show_posts))  \n",
        "print('Number of Other Posts : ', len(other_posts))\n",
        "    "
      ]
    },
    {
      "cell_type": "markdown",
      "source": [
        "4.Calculating average number of comments for Ask and Show posts.From this far, we can conclude that ask hacker news posts are drawing more attention for debate rather than show hacker news posts."
      ],
      "metadata": {
        "id": "mIigrqb5_kDJ"
      }
    },
    {
      "cell_type": "code",
      "execution_count": 5,
      "metadata": {
        "colab": {
          "base_uri": "https://localhost:8080/"
        },
        "id": "in4SxF8N5o_8",
        "outputId": "644fe384-5b38-495c-e7cd-7109afb105be"
      },
      "outputs": [
        {
          "output_type": "stream",
          "name": "stdout",
          "text": [
            "Average ask hn comments :  14.04\n",
            "Average show hn comments :  10.32\n"
          ]
        }
      ],
      "source": [
        "total_ask_comments = 0\n",
        "for row in ask_posts:\n",
        "    comments = row[4]\n",
        "    comments = int(comments)\n",
        "    total_ask_comments = total_ask_comments + comments\n",
        "avg_ask_comments = total_ask_comments / len(ask_posts)\n",
        "print(\"Average ask hn comments : \", round(avg_ask_comments,2))\n",
        "\n",
        "total_show_comments = 0\n",
        "for row in show_posts:\n",
        "    comments = row[4]\n",
        "    comments = int(comments)\n",
        "    total_show_comments = total_show_comments + comments\n",
        "avg_show_comments = total_show_comments / len(show_posts)\n",
        "print(\"Average show hn comments : \", round(avg_show_comments,2))"
      ]
    },
    {
      "cell_type": "markdown",
      "source": [
        "5.Calculating number of comments by hour in ask hacker news posts"
      ],
      "metadata": {
        "id": "UGorf2QlAZtB"
      }
    },
    {
      "cell_type": "code",
      "execution_count": 6,
      "metadata": {
        "colab": {
          "base_uri": "https://localhost:8080/"
        },
        "id": "L4lT8Ek45o_-",
        "outputId": "465be667-487f-4b41-f853-d4f7f6898592"
      },
      "outputs": [
        {
          "output_type": "stream",
          "name": "stdout",
          "text": [
            "{'09': 45, '13': 85, '10': 59, '14': 107, '16': 108, '23': 68, '12': 73, '17': 100, '15': 116, '21': 109, '20': 80, '02': 58, '18': 109, '03': 54, '05': 46, '19': 110, '01': 60, '22': 71, '08': 48, '04': 47, '00': 55, '06': 44, '07': 34, '11': 58}\n",
            "\n",
            "\n",
            "{'09': 251, '13': 1253, '10': 793, '14': 1416, '16': 1814, '23': 543, '12': 687, '17': 1146, '15': 4477, '21': 1745, '20': 1722, '02': 1381, '18': 1439, '03': 421, '05': 464, '19': 1188, '01': 683, '22': 479, '08': 492, '04': 337, '00': 447, '06': 397, '07': 267, '11': 641}\n"
          ]
        }
      ],
      "source": [
        "import datetime as dt\n",
        "result_list = list()\n",
        "for row in ask_posts:\n",
        "    created_at = row[6]\n",
        "    num_comments = int(row[4])\n",
        "    result_list.append([created_at,num_comments])\n",
        "    \n",
        "counts_by_hour = dict()\n",
        "comments_by_hour = dict()\n",
        "date_format = \"%m/%d/%Y %H:%M\"\n",
        "for row in result_list:\n",
        "    hour = row[0]\n",
        "    comments = row[1]\n",
        "    time = dt.datetime.strptime(hour, date_format)\n",
        "    time = time.strftime(\"%H\")\n",
        "    if time not in counts_by_hour:\n",
        "        counts_by_hour[time] = 1\n",
        "        comments_by_hour[time] = comments\n",
        "    else:\n",
        "        counts_by_hour[time] += 1\n",
        "        comments_by_hour[time] += comments\n",
        "print(counts_by_hour)\n",
        "print('\\n')\n",
        "print(comments_by_hour)"
      ]
    },
    {
      "cell_type": "markdown",
      "source": [
        "6.We are interested in average number of comments by every hour. "
      ],
      "metadata": {
        "id": "X0vq-VA-BL2j"
      }
    },
    {
      "cell_type": "code",
      "execution_count": 7,
      "metadata": {
        "colab": {
          "base_uri": "https://localhost:8080/"
        },
        "id": "XGwkgfst5pAA",
        "outputId": "a0df3397-8675-40cb-8b58-bddcfce107e2"
      },
      "outputs": [
        {
          "output_type": "stream",
          "name": "stdout",
          "text": [
            "Average # of comments in  09 hrs is  5.58\n",
            "Average # of comments in  13 hrs is  14.74\n",
            "Average # of comments in  10 hrs is  13.44\n",
            "Average # of comments in  14 hrs is  13.23\n",
            "Average # of comments in  16 hrs is  16.8\n",
            "Average # of comments in  23 hrs is  7.99\n",
            "Average # of comments in  12 hrs is  9.41\n",
            "Average # of comments in  17 hrs is  11.46\n",
            "Average # of comments in  15 hrs is  38.59\n",
            "Average # of comments in  21 hrs is  16.01\n",
            "Average # of comments in  20 hrs is  21.52\n",
            "Average # of comments in  02 hrs is  23.81\n",
            "Average # of comments in  18 hrs is  13.2\n",
            "Average # of comments in  03 hrs is  7.8\n",
            "Average # of comments in  05 hrs is  10.09\n",
            "Average # of comments in  19 hrs is  10.8\n",
            "Average # of comments in  01 hrs is  11.38\n",
            "Average # of comments in  22 hrs is  6.75\n",
            "Average # of comments in  08 hrs is  10.25\n",
            "Average # of comments in  04 hrs is  7.17\n",
            "Average # of comments in  00 hrs is  8.13\n",
            "Average # of comments in  06 hrs is  9.02\n",
            "Average # of comments in  07 hrs is  7.85\n",
            "Average # of comments in  11 hrs is  11.05\n"
          ]
        }
      ],
      "source": [
        "avg_by_hour = list()\n",
        "for hour in counts_by_hour:\n",
        "    avg_by_hour.append([hour, comments_by_hour[hour] / counts_by_hour[hour]])\n",
        "for row in avg_by_hour:\n",
        "    hour = row[0]\n",
        "    average = row[1]\n",
        "    print(\"Average # of comments in \", hour,\"hrs is \", round(average,2))"
      ]
    },
    {
      "cell_type": "markdown",
      "source": [
        "7.To make the order to be sequential, in the cell below you can see the top 5 hours for ask posts in descedning order of average comments per post."
      ],
      "metadata": {
        "id": "q8kFBIg1BrXj"
      }
    },
    {
      "cell_type": "code",
      "execution_count": 8,
      "metadata": {
        "colab": {
          "base_uri": "https://localhost:8080/"
        },
        "id": "PRZEJnFw5pAB",
        "outputId": "36c63562-b2bf-41dc-9892-7dd41e386085"
      },
      "outputs": [
        {
          "output_type": "stream",
          "name": "stdout",
          "text": [
            "Sorted swap: [[38.5948275862069, '15'], [23.810344827586206, '02'], [21.525, '20'], [16.796296296296298, '16'], [16.009174311926607, '21'], [14.741176470588234, '13'], [13.440677966101696, '10'], [13.233644859813085, '14'], [13.20183486238532, '18'], [11.46, '17'], [11.383333333333333, '01'], [11.051724137931034, '11'], [10.8, '19'], [10.25, '08'], [10.08695652173913, '05'], [9.41095890410959, '12'], [9.022727272727273, '06'], [8.127272727272727, '00'], [7.985294117647059, '23'], [7.852941176470588, '07'], [7.796296296296297, '03'], [7.170212765957447, '04'], [6.746478873239437, '22'], [5.5777777777777775, '09']]\n",
            "Top 5 Hours for Ask Posts Comments Across All Days of Week \n",
            "15:00 38.59  average comments per post\n",
            "02:00 23.81  average comments per post\n",
            "20:00 21.52  average comments per post\n",
            "16:00 16.8  average comments per post\n",
            "21:00 16.01  average comments per post\n"
          ]
        }
      ],
      "source": [
        "swap_avg_by_hour = list()\n",
        "for row in avg_by_hour:\n",
        "    swap_avg_by_hour.append([row[1],row[0]])\n",
        "\n",
        "sorted_swap = sorted(swap_avg_by_hour, reverse=True)\n",
        "print(\"Sorted swap:\" , sorted_swap)\n",
        "print('Top 5 Hours for Ask Posts Comments Across All Days of Week ')\n",
        "time_format = \"%H\"\n",
        "for row in sorted_swap[:5]:\n",
        "    comments = row[0]\n",
        "    hour = row[1]\n",
        "    hour1 = dt.datetime.strptime(hour, time_format).strftime(\"%H:%M\")\n",
        "    print(hour1, round(comments,2), ' average comments per post')"
      ]
    },
    {
      "cell_type": "markdown",
      "source": [
        "**Conclusion**\n",
        "\n",
        "From the cell above we can conclude the following: 15:00(3pm),16:00(4pm) and little after that 20:00(8pm) and 21:00(9pm) are **the most frequent times** for discussion, posting or anyting connected to this interesting platform.But, this result is a complex one bearing in mind that the hours are given in **UTC 0+ Time Zone** and since this is a global platform people from all over the world have access to and join the discussion. This means that in particular parts of the world they would access the site in a different part of their day or night.\n",
        "Let's see the analysis based on the days of the week.\n",
        "\n",
        "\n",
        "\n",
        "---\n",
        "\n"
      ],
      "metadata": {
        "id": "5W352BUQEjQO"
      }
    },
    {
      "cell_type": "code",
      "source": [
        "counts_by_day = dict()\n",
        "comments_by_day = dict()\n",
        "date_format = \"%m/%d/%Y %H:%M\"\n",
        "\n",
        "for row in result_list:\n",
        "    entry_date = row[0]\n",
        "    comments = row[1]\n",
        "    day = dt.datetime.strptime(entry_date, date_format).strftime(\"%A\")\n",
        "    if day in counts_by_day:\n",
        "        counts_by_day[day] += 1\n",
        "        comments_by_day[day] += comments\n",
        "    else:\n",
        "        counts_by_day[day] = 1\n",
        "        comments_by_day[day] = comments\n",
        "\n",
        "avg_by_day = list()\n",
        "\n",
        "for day in counts_by_day:\n",
        "    avg_by_day.append([day, comments_by_day[day] / counts_by_day[day]])\n",
        "\n",
        "    \n",
        "print('\\n')\n",
        "print(avg_by_day)\n",
        "\n",
        "swap_avg_by_day = list()\n",
        "for row in avg_by_day:\n",
        "    swap_avg_by_day.append([row[1],row[0]])\n",
        "\n",
        "sorted_swap_day = sorted(swap_avg_by_day, reverse=True)\n",
        "print(\"Sorted swap day:\" , sorted_swap_day)\n",
        "print('\\n')\n",
        "\n",
        "for row in sorted_swap_day:\n",
        "    comments = row[0]\n",
        "    day = row[1]\n",
        "    print(day, round(comments,2), ' average comments per day')"
      ],
      "metadata": {
        "colab": {
          "base_uri": "https://localhost:8080/"
        },
        "id": "aeACSPUcIXEF",
        "outputId": "0976a9a8-86c6-4a43-9691-5463f4cb697f"
      },
      "execution_count": 13,
      "outputs": [
        {
          "output_type": "stream",
          "name": "stdout",
          "text": [
            "\n",
            "\n",
            "[['Tuesday', 10.59375], ['Sunday', 19.290123456790123], ['Monday', 12.592982456140351], ['Thursday', 13.125984251968504], ['Saturday', 15.636842105263158], ['Friday', 17.55719557195572], ['Wednesday', 12.431972789115646]]\n",
            "Sorted swap day: [[19.290123456790123, 'Sunday'], [17.55719557195572, 'Friday'], [15.636842105263158, 'Saturday'], [13.125984251968504, 'Thursday'], [12.592982456140351, 'Monday'], [12.431972789115646, 'Wednesday'], [10.59375, 'Tuesday']]\n",
            "\n",
            "\n",
            "Sunday 19.29  average comments per day\n",
            "Friday 17.56  average comments per day\n",
            "Saturday 15.64  average comments per day\n",
            "Thursday 13.13  average comments per day\n",
            "Monday 12.59  average comments per day\n",
            "Wednesday 12.43  average comments per day\n",
            "Tuesday 10.59  average comments per day\n"
          ]
        }
      ]
    },
    {
      "cell_type": "markdown",
      "source": [
        "Average comments per post within each day is **highest** for the weekend days: Friday, Saturday and Sunday. It is considered as quite a logical feedback, mostly because people have more free time in the weekends for extracurricular activities and discussions on the Hacker News platform.\n",
        "\n",
        "Based on my research, now I should advise you when to post a topic on Hacker News according to my remarks. Well, **the optimal time is Friday or Saturday**, because the Hacker News community is the most active during this period of the week. However, time frames between **3.00pm and 9.00pm** during every day is proved as effective for posting a question to the public. Having that in mind, consider posting **Friday from 3.00pm till 9.00pm**, so that your post would get attention from a larger group of entusiasts, thus having more chance for an open discussion on your topic.\n",
        "\n",
        "Thank you for your attention."
      ],
      "metadata": {
        "id": "_6n185VSMZsl"
      }
    }
  ],
  "metadata": {
    "kernelspec": {
      "display_name": "Python 3",
      "language": "python",
      "name": "python3"
    },
    "language_info": {
      "codemirror_mode": {
        "name": "ipython",
        "version": 3
      },
      "file_extension": ".py",
      "mimetype": "text/x-python",
      "name": "python",
      "nbconvert_exporter": "python",
      "pygments_lexer": "ipython3",
      "version": "3.8.2"
    },
    "colab": {
      "name": "research.ipynb",
      "provenance": [],
      "collapsed_sections": []
    }
  },
  "nbformat": 4,
  "nbformat_minor": 0
}